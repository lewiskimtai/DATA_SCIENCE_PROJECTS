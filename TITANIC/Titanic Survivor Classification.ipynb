{
 "metadata": {
  "orig_nbformat": 4,
  "kernelspec": {
   "name": "python3",
   "display_name": "Python 3",
   "language": "python"
  },
  "interpreter": {
   "hash": "31f2aee4e71d21fbe5cf8b01ff0e069b9275f58929596ceb00d14d90e3e16cd6"
  }
 },
 "nbformat": 4,
 "nbformat_minor": 2,
 "cells": [
  {
   "source": [
    "                                    LOGISTIC REGRESSION\n",
    "                                    0 = ax + by + c"
   ],
   "cell_type": "markdown",
   "metadata": {}
  },
  {
   "source": [
    "             Classifying Titanic Passangers and predicting survivors and deaths"
   ],
   "cell_type": "markdown",
   "metadata": {}
  },
  {
   "cell_type": "code",
   "execution_count": 1,
   "metadata": {},
   "outputs": [
    {
     "output_type": "execute_result",
     "data": {
      "text/plain": [
       "Index(['PassengerId', 'Survived', 'Pclass', 'Name', 'Sex', 'Age', 'SibSp',\n",
       "       'Parch', 'Ticket', 'Fare', 'Cabin', 'Embarked'],\n",
       "      dtype='object')"
      ]
     },
     "metadata": {},
     "execution_count": 1
    }
   ],
   "source": [
    "import pandas as pd\n",
    "\n",
    "#Load the data\n",
    "df = pd.read_csv('/home/lewis/Desktop/ENV/ven/DATA_SCIENCE/TITANIC/titanic.csv')\n",
    "\n",
    "passangers = df.dropna()\n",
    "passangers.head()\n",
    "\n",
    "passangers.columns"
   ]
  },
  {
   "source": [
    "#Make all our columns numerical\n",
    "passangers['male'] = passangers['Sex'] == 'male'\n",
    "\n",
    "#Create the x numpy array with x features\n",
    "x = passangers[['Pclass', 'male', 'Age', 'SibSp', 'Parch', 'Fare']].values\n",
    "\n",
    "#Target y variable (Survived column)\n",
    "y = passangers['Survived'].values\n",
    "\n"
   ],
   "cell_type": "code",
   "metadata": {},
   "execution_count": 2,
   "outputs": [
    {
     "output_type": "stream",
     "name": "stderr",
     "text": [
      "/home/lewis/Desktop/ENV/ven/lib/python3.6/site-packages/ipykernel_launcher.py:2: SettingWithCopyWarning: \nA value is trying to be set on a copy of a slice from a DataFrame.\nTry using .loc[row_indexer,col_indexer] = value instead\n\nSee the caveats in the documentation: http://pandas.pydata.org/pandas-docs/stable/user_guide/indexing.html#returning-a-view-versus-a-copy\n  \n"
     ]
    }
   ]
  },
  {
   "source": [
    "Build the Logistic Regression Model"
   ],
   "cell_type": "markdown",
   "metadata": {}
  },
  {
   "cell_type": "code",
   "execution_count": 3,
   "metadata": {},
   "outputs": [
    {
     "output_type": "stream",
     "name": "stdout",
     "text": [
      "[[-4.99891716e-01 -2.37398856e+00 -3.83849131e-02  9.72382620e-02\n  -3.68891601e-01  2.22889963e-03]] [4.1964935]\n"
     ]
    }
   ],
   "source": [
    "from sklearn.linear_model import LogisticRegression\n",
    "model = LogisticRegression()\n",
    "model.fit(x, y)\n",
    "print(model.coef_, model.intercept_)"
   ]
  },
  {
   "source": [
    "Make Predictions with the Model"
   ],
   "cell_type": "markdown",
   "metadata": {}
  },
  {
   "cell_type": "code",
   "execution_count": 4,
   "metadata": {},
   "outputs": [
    {
     "output_type": "stream",
     "name": "stdout",
     "text": [
      "[1 1 0 1 1]\n[1 1 0 1 1]\n"
     ]
    }
   ],
   "source": [
    "model.predict(x)\n",
    "print(model.predict(x[:5])) #First 5 rows\n",
    "print(y[:5]) #Compare it to the first 5 values in the target"
   ]
  },
  {
   "source": [
    "SCore of the Model"
   ],
   "cell_type": "markdown",
   "metadata": {}
  },
  {
   "cell_type": "code",
   "execution_count": 5,
   "metadata": {},
   "outputs": [
    {
     "output_type": "stream",
     "name": "stdout",
     "text": [
      "140\n0.7650273224043715\n0.7650273224043715\n"
     ]
    }
   ],
   "source": [
    "#Accuracy Score\n",
    "y_pred = model.predict(x) #Array of predicted y values\n",
    "y == y_pred #Array of boolean values of whether or not our model predicted each passanger correctly\n",
    "print((y==y_pred).sum()) #Sum of true predictions\n",
    "print((y==y_pred).sum()/y.shape[0]) #Divide the sum of true predictions by the sum of passangers\n",
    "\n",
    "#OR\n",
    "print(model.score(x, y))\n"
   ]
  },
  {
   "cell_type": "code",
   "execution_count": null,
   "metadata": {},
   "outputs": [],
   "source": []
  }
 ]
}